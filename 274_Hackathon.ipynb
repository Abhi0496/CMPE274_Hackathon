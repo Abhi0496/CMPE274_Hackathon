{
  "cells": [
    {
      "cell_type": "markdown",
      "metadata": {
        "id": "GolmvnpaeZ0v"
      },
      "source": [
        "Team Members-\n",
        "\n",
        "1) Abhishek Agrawal\n",
        "\n",
        "2) Ankur Singh\n",
        "\n",
        "3) Atharva Dixit\n",
        "\n",
        "4) Ruthvik Kamarasu"
      ]
    },
    {
      "cell_type": "markdown",
      "metadata": {
        "id": "t1ceWb3p0NRZ"
      },
      "source": [
        "# 274 Business Intelligence Platform"
      ]
    },
    {
      "cell_type": "markdown",
      "metadata": {
        "id": "2RYNZSby0S18"
      },
      "source": [
        "### Setup"
      ]
    },
    {
      "cell_type": "code",
      "execution_count": 1,
      "metadata": {
        "id": "ojdN47Mawu0f"
      },
      "outputs": [],
      "source": [
        "!pip install -qU gradio openai llama-index llama-index-embeddings-huggingface llama-index-llms-openrouter"
      ]
    },
    {
      "cell_type": "markdown",
      "metadata": {
        "id": "QMrT3SyB0VCG"
      },
      "source": [
        "### Imports"
      ]
    },
    {
      "cell_type": "code",
      "execution_count": 2,
      "metadata": {
        "id": "qyC_w-9A_cq9"
      },
      "outputs": [],
      "source": [
        "from pathlib import Path\n",
        "from llama_index.core import VectorStoreIndex\n",
        "from llama_index.core import SimpleDirectoryReader\n",
        "from llama_index.core import StorageContext\n",
        "from llama_index.core import load_index_from_storage\n",
        "from llama_index.core import Settings\n",
        "from llama_index.llms.openai import OpenAI\n",
        "from llama_index.llms.openrouter import OpenRouter\n",
        "from llama_index.core.llms import ChatMessage\n",
        "from llama_index.core.embeddings import resolve_embed_model"
      ]
    },
    {
      "cell_type": "markdown",
      "metadata": {
        "id": "yp_ZkUna0ezb"
      },
      "source": [
        "### Initializations"
      ]
    },
    {
      "cell_type": "code",
      "execution_count": 3,
      "metadata": {
        "id": "yVRIooIcCEbS"
      },
      "outputs": [],
      "source": [
        "BASE_URL = \"https://openrouter.ai/api/v1\"\n",
        "\n",
        "#API_KEY = \"xxxxxxxxxxxxxxxxxxxxxxxxxxxxxxxxxxxxxxxxx\""
      ]
    },
    {
      "cell_type": "code",
      "execution_count": 4,
      "metadata": {
        "id": "oMqNheRz_nNo"
      },
      "outputs": [],
      "source": [
        "PERSIST_DIR = Path(\"./storage\")\n",
        "DATA_DIR = Path(\"./data\")\n",
        "assert DATA_DIR.exists(), \"Please create the data directory and upload all your files!\""
      ]
    },
    {
      "cell_type": "markdown",
      "metadata": {
        "id": "AMnH2Dww0iTt"
      },
      "source": [
        "### Setting Embedding and LLM model"
      ]
    },
    {
      "cell_type": "code",
      "execution_count": 5,
      "metadata": {
        "colab": {
          "base_uri": "https://localhost:8080/"
        },
        "id": "yuX-TtEeAHkd",
        "outputId": "559ca8b6-6011-4e38-c53b-20ce1ab99af1"
      },
      "outputs": [
        {
          "name": "stderr",
          "output_type": "stream",
          "text": [
            "/usr/local/lib/python3.10/dist-packages/huggingface_hub/utils/_token.py:88: UserWarning: \n",
            "The secret `HF_TOKEN` does not exist in your Colab secrets.\n",
            "To authenticate with the Hugging Face Hub, create a token in your settings tab (https://huggingface.co/settings/tokens), set it as secret in your Google Colab and restart your session.\n",
            "You will be able to reuse this secret in all of your notebooks.\n",
            "Please note that authentication is recommended but still optional to access public models or datasets.\n",
            "  warnings.warn(\n"
          ]
        }
      ],
      "source": [
        "Settings.embed_model = resolve_embed_model(\"local:BAAI/bge-small-en-v1.5\")\n",
        "Settings.llm = OpenRouter(api_key=API_KEY, model=\"mistralai/mistral-7b-instruct:free\")"
      ]
    },
    {
      "cell_type": "markdown",
      "metadata": {
        "id": "n7H_Ztgg0q-w"
      },
      "source": [
        "### Indexing Documents"
      ]
    },
    {
      "cell_type": "code",
      "execution_count": 6,
      "metadata": {
        "id": "uODfhRKK997O"
      },
      "outputs": [],
      "source": [
        "if not PERSIST_DIR.exists():\n",
        "    documents = SimpleDirectoryReader(DATA_DIR).load_data()\n",
        "    index = VectorStoreIndex.from_documents(documents)\n",
        "    index.storage_context.persist(persist_dir=PERSIST_DIR)\n",
        "else:\n",
        "    storage_context = StorageContext.from_defaults(persist_dir=PERSIST_DIR)\n",
        "    index = load_index_from_storage(storage_context)\n",
        "\n",
        "query_engine = index.as_query_engine()"
      ]
    },
    {
      "cell_type": "code",
      "execution_count": 7,
      "metadata": {
        "colab": {
          "base_uri": "https://localhost:8080/"
        },
        "id": "KduAgOrj_prW",
        "outputId": "5558e830-5ca0-4fba-8b7e-4cefe6b5683b"
      },
      "outputs": [
        {
          "name": "stdout",
          "output_type": "stream",
          "text": [
            " Based on the provided context information, there is no explicit mention of major Mosaic influencers in 2023. However, the table of contents mentions the financial information for the three and nine months ended September 30, 2023, which could be used to identify key financial metrics and performance indicators for the company during that time period. Additionally, the table of contents also mentions the signatures of the registrant, which could potentially provide insight into the leadership and decision-making processes of the company.\n"
          ]
        }
      ],
      "source": [
        "response = query_engine.query(\"List major Mosaic Influencers in 2023 (Mosaic 10-Q)\")\n",
        "print(response)"
      ]
    },
    {
      "cell_type": "markdown",
      "metadata": {
        "id": "9tuM_VOSDkyt"
      },
      "source": [
        "## Dashboard"
      ]
    },
    {
      "cell_type": "code",
      "execution_count": 8,
      "metadata": {
        "id": "2dZifxe7DoYM"
      },
      "outputs": [],
      "source": [
        "import pandas as pd\n",
        "import gradio as gr"
      ]
    },
    {
      "cell_type": "code",
      "execution_count": 9,
      "metadata": {
        "id": "TEA9hgzrlzBt"
      },
      "outputs": [],
      "source": [
        "df = pd.read_csv(DATA_DIR/\"WPU0652026A.csv\")\n",
        "df.DATE = pd.to_datetime(df.DATE)"
      ]
    },
    {
      "cell_type": "code",
      "execution_count": 10,
      "metadata": {
        "id": "unxogEGVt4a_"
      },
      "outputs": [],
      "source": [
        "def respond(message, chat_history):\n",
        "    bot_message = str(query_engine.query(message))\n",
        "    chat_history.append((message, bot_message))\n",
        "    return \"\", chat_history"
      ]
    },
    {
      "cell_type": "code",
      "execution_count": 11,
      "metadata": {
        "id": "BiEM4tQts02_"
      },
      "outputs": [],
      "source": [
        "APP_TITLE_MD = \"# CMPE-274 Business Dashboard\"\n",
        "APP_INTRO_MD = \"\"\"Explore the dynamic interplay of urbanization and agrifood systems transformation across the rural–urban continuum. This dashboard provides insights into global and local food security challenges, innovations in sustainable agriculture, and the impact of economic, environmental, and social factors on nutrition and health. Dive into data-driven analyses and visualizations that highlight the state of food security and the pathways to achieving healthier diets for all.\n",
        "\"\"\"\n",
        "\n",
        "RAG_INTRO_MD = \"\"\"Explore the innovative applications of generative AI in the realm of food security. This section explores how AI technologies can forecast agricultural outputs, optimize food distribution, and enhance nutritional planning to mitigate hunger. It discusses the potential of AI to transform food systems through predictive analytics, machine learning models, and real-time data processing, fostering more resilient and efficient food production and supply chains.\n",
        "\"\"\"\n",
        "\n",
        "PLOT_INTRO_MD = \"\"\"Our interactive plots offer a visual narrative of food security data, illustrating trends and patterns in hunger, malnutrition, and dietary shifts over time. By visualizing the data from various angles, users can grasp the complexities of food supply chains, the impacts of urbanization on food availability, and the critical role of technological and policy innovations in shaping food systems.\n",
        "\"\"\"\n",
        "\n",
        "REPORT_INTRO_MD = \"\"\"Dive into detailed reports that synthesize the latest findings on food security, agrifood systems, and nutritional trends. Each report combines rigorous analysis with policy recommendations, providing stakeholders with the information needed to design interventions that enhance food security and promote equitable access to nutritious diets.\n",
        "\"\"\"\n",
        "\n",
        "EXEC_REPORT_HTML = \"\"\"\n",
        "<table border=\"1\">\n",
        "    <tr>\n",
        "        <th></th>\n",
        "        <th>Mosaic</th>\n",
        "        <th>Food Security</th>\n",
        "    </tr>\n",
        "    <tr>\n",
        "        <td>Food Security Measures</td>\n",
        "        <td>One approach to improving food security is through the development of urban food systems. This involves creating a diverse and complementary range of food production, distribution, and consumption systems that are tailored to the needs of urban populations.</td>\n",
        "        <td>Strengthening agricultural productivity and resilience: This involves investing in research and development, improving access to inputs such as seeds and fertilizers, and promoting sustainable agricultural practices.</td>\n",
        "    </tr>\n",
        "    <tr>\n",
        "        <td>Climate Change</td>\n",
        "        <td>Overall, the mosaic document suggests that climate change is a complex and multifaceted issue that requires a comprehensive and coordinated response from governments, civil society</td>\n",
        "        <td>The SOFI document discusses the risks of extreme events and disasters in the context of climate change. It highlights the potential impacts of climate change on agriculture, food security, and nutrition. The document also discusses the importance of adapting to these risks and the role of sustainable rural livelihoods in this process.</td>\n",
        "    </tr>\n",
        "    <tr>\n",
        "        <td>Wars and Political Uncertainties</td>\n",
        "        <td>The mosaic document discusses contingencies and their impact on various countries, including Georgia, Iraq, Israel, Jordan, Kuwait, Lebanon, Oman, Palestine, Qatar, Saudi Arabia, Syria, Turkey, and the United Arab Emirates, as well as political uncertainties in these regions.</td>\n",
        "        <td>The SOFI document provides information on various political uncertainties and conflicts in countries such as Cambodia, Indonesia, Lao People's Democratic Republic, Malaysia, Myanmar, Philippines, Singapore, Türkiye, United Arab Emirates, and Yemen, which may impact the stability and security of the region.</td>\n",
        "    </tr>\n",
        "</table>\n",
        "\n",
        "\"\"\""
      ]
    },
    {
      "cell_type": "code",
      "execution_count": null,
      "metadata": {
        "colab": {
          "base_uri": "https://localhost:8080/",
          "height": 686
        },
        "id": "YVxP_x20DmLW",
        "outputId": "dcb25828-9be4-4e2c-a368-2a5e502d5a9d"
      },
      "outputs": [
        {
          "name": "stderr",
          "output_type": "stream",
          "text": [
            "/usr/local/lib/python3.10/dist-packages/gradio/blocks.py:626: UserWarning: Cannot load 📊 Business Intelligence Platform. Caught Exception: Repo id must use alphanumeric chars or '-', '_', '.', '--' and '..' are forbidden, '-' and '.' cannot start or end the name, max length is 96: '📊 Business Intelligence Platform'.\n",
            "  warnings.warn(f\"Cannot load {theme}. Caught Exception: {str(e)}\")\n"
          ]
        },
        {
          "name": "stdout",
          "output_type": "stream",
          "text": [
            "Setting queue=True in a Colab notebook requires sharing enabled. Setting `share=True` (you can turn this off by setting `share=False` in `launch()` explicitly).\n",
            "\n",
            "Colab notebook detected. This cell will run indefinitely so that you can see errors and logs. To turn off, set debug=False in launch().\n",
            "Running on public URL: https://20a61e3dae3228d0d0.gradio.live\n",
            "\n",
            "This share link expires in 72 hours. For free permanent hosting and GPU upgrades, run `gradio deploy` from Terminal to deploy to Spaces (https://huggingface.co/spaces)\n"
          ]
        },
        {
          "data": {
            "text/html": [
              "<div><iframe src=\"https://20a61e3dae3228d0d0.gradio.live\" width=\"100%\" height=\"500\" allow=\"autoplay; camera; microphone; clipboard-read; clipboard-write;\" frameborder=\"0\" allowfullscreen></iframe></div>"
            ],
            "text/plain": [
              "<IPython.core.display.HTML object>"
            ]
          },
          "metadata": {},
          "output_type": "display_data"
        }
      ],
      "source": [
        "with gr.Blocks(\"📊 Business Intelligence Platform\") as demo:\n",
        "    gr.Markdown(APP_TITLE_MD)\n",
        "    gr.Markdown(APP_INTRO_MD)\n",
        "\n",
        "    with gr.Tabs() as tabs:\n",
        "\n",
        "        # RAG tab\n",
        "        with gr.TabItem(\"RAG Chatbot\", id=0):\n",
        "            gr.Markdown(RAG_INTRO_MD)\n",
        "            chatbot = gr.Chatbot()\n",
        "            msg = gr.Textbox()\n",
        "            msg.submit(respond, [msg, chatbot], [msg, chatbot])\n",
        "\n",
        "\n",
        "        # PLOT tab\n",
        "        with gr.TabItem(\"Plot\", id=1):\n",
        "            gr.Markdown(PLOT_INTRO_MD)\n",
        "            gr.LinePlot(df, \"DATE\", \"WPU0652026A\", x_title=\"Date\",\n",
        "                        interactive=True, width=800, height=400,\n",
        "                        show_actions_button=True, show_label=False)\n",
        "\n",
        "\n",
        "        # Report tab\n",
        "        with gr.TabItem(\"Executive Report\", id=2):\n",
        "            gr.Markdown(REPORT_INTRO_MD)\n",
        "            gr.HTML(EXEC_REPORT_HTML)\n",
        "\n",
        "\n",
        "if __name__ == \"__main__\":\n",
        "    demo.launch(debug=True)\n",
        "\n"
      ]
    }
  ],
  "metadata": {
    "accelerator": "GPU",
    "colab": {
      "gpuType": "T4",
      "provenance": []
    },
    "kernelspec": {
      "display_name": "Python 3",
      "name": "python3"
    },
    "language_info": {
      "name": "python"
    }
  },
  "nbformat": 4,
  "nbformat_minor": 0
}
